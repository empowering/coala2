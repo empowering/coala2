{
 "cells": [
  {
   "cell_type": "markdown",
   "metadata": {},
   "source": [
    "# 1. 엑셀 파일 불러오기"
   ]
  },
  {
   "cell_type": "code",
   "execution_count": 1,
   "metadata": {},
   "outputs": [],
   "source": [
    "import pandas as pd"
   ]
  },
  {
   "cell_type": "code",
   "execution_count": 2,
   "metadata": {},
   "outputs": [],
   "source": [
    "df=pd.read_excel(\"sample.xlsx\")"
   ]
  },
  {
   "cell_type": "code",
   "execution_count": 3,
   "metadata": {
    "scrolled": false
   },
   "outputs": [
    {
     "data": {
      "text/html": [
       "<div>\n",
       "<style scoped>\n",
       "    .dataframe tbody tr th:only-of-type {\n",
       "        vertical-align: middle;\n",
       "    }\n",
       "\n",
       "    .dataframe tbody tr th {\n",
       "        vertical-align: top;\n",
       "    }\n",
       "\n",
       "    .dataframe thead th {\n",
       "        text-align: right;\n",
       "    }\n",
       "</style>\n",
       "<table border=\"1\" class=\"dataframe\">\n",
       "  <thead>\n",
       "    <tr style=\"text-align: right;\">\n",
       "      <th></th>\n",
       "      <th>body</th>\n",
       "      <th>neighbor</th>\n",
       "      <th>likes</th>\n",
       "      <th>isAd</th>\n",
       "    </tr>\n",
       "  </thead>\n",
       "  <tbody>\n",
       "    <tr>\n",
       "      <th>0</th>\n",
       "      <td>결혼 전 신혼 살림 빠짐없이 차리면서\\n\\n이만~하면 되었다~~했고요\\n\\n그 이후...</td>\n",
       "      <td>10</td>\n",
       "      <td>5</td>\n",
       "      <td>1</td>\n",
       "    </tr>\n",
       "    <tr>\n",
       "      <th>1</th>\n",
       "      <td>&lt; 장점 &gt;\\n\\n \\n\\n1. 리모컨이 있어서 편함 \\n\\n2. 상하, 좌우, 다...</td>\n",
       "      <td>2</td>\n",
       "      <td>6</td>\n",
       "      <td>0</td>\n",
       "    </tr>\n",
       "  </tbody>\n",
       "</table>\n",
       "</div>"
      ],
      "text/plain": [
       "                                                body  neighbor  likes  isAd\n",
       "0  결혼 전 신혼 살림 빠짐없이 차리면서\\n\\n이만~하면 되었다~~했고요\\n\\n그 이후...        10      5     1\n",
       "1  < 장점 >\\n\\n \\n\\n1. 리모컨이 있어서 편함 \\n\\n2. 상하, 좌우, 다...         2      6     0"
      ]
     },
     "execution_count": 3,
     "metadata": {},
     "output_type": "execute_result"
    }
   ],
   "source": [
    "df"
   ]
  },
  {
   "cell_type": "markdown",
   "metadata": {},
   "source": [
    "# 2. 의미없는 부분 제거\n",
    "1. 공백 (\\u200b)\n",
    "2. \\n\n",
    "3. 문장부호"
   ]
  },
  {
   "cell_type": "code",
   "execution_count": 4,
   "metadata": {},
   "outputs": [],
   "source": [
    "import re"
   ]
  },
  {
   "cell_type": "code",
   "execution_count": 5,
   "metadata": {},
   "outputs": [],
   "source": [
    "# temp=df['body'][0].replace(\"\\n\",' ').replace(\"\\u200b\",\"\")\n",
    "# temp"
   ]
  },
  {
   "cell_type": "code",
   "execution_count": 6,
   "metadata": {},
   "outputs": [],
   "source": [
    "#전처리 함수 정의\n",
    "def cleaning(x):\n",
    "    x=re.sub('\\W', ' ', x) #특수문자 제거\n",
    "    x=re.sub('([ㄱ-ㅎㅏ-ㅣ]+)', '', x) #한글 자음 모음 제거\n",
    "    return x\n",
    "\n",
    "#전체 행에 전처리 적용\n",
    "df['body']=df.body.apply(cleaning)"
   ]
  },
  {
   "cell_type": "markdown",
   "metadata": {},
   "source": [
    "# 2. 형태소 분석기 이용해 토큰화"
   ]
  },
  {
   "cell_type": "code",
   "execution_count": 7,
   "metadata": {},
   "outputs": [],
   "source": [
    "from konlpy.tag import *"
   ]
  },
  {
   "cell_type": "code",
   "execution_count": 8,
   "metadata": {},
   "outputs": [],
   "source": [
    "komoran=Komoran()"
   ]
  },
  {
   "cell_type": "code",
   "execution_count": 23,
   "metadata": {},
   "outputs": [],
   "source": [
    "word_tokens=komoran.morphs(df.body[0])"
   ]
  },
  {
   "cell_type": "markdown",
   "metadata": {},
   "source": [
    "# 3. 불용어 제거"
   ]
  },
  {
   "cell_type": "code",
   "execution_count": 37,
   "metadata": {},
   "outputs": [],
   "source": [
    "import numpy as np\n",
    "stopwords=pd.read_excel(\"stopwords.xlsx\")\n",
    "stoplist=np.array(stopwords.words.tolist())"
   ]
  },
  {
   "cell_type": "code",
   "execution_count": 38,
   "metadata": {},
   "outputs": [],
   "source": [
    "result=[]\n",
    "for w in word_tokens:\n",
    "    if w not in stoplist:\n",
    "        result.append(w)"
   ]
  },
  {
   "cell_type": "code",
   "execution_count": 40,
   "metadata": {},
   "outputs": [
    {
     "name": "stdout",
     "output_type": "stream",
     "text": [
      "['결혼', '전', '신혼', '살림', '빠짐없이', '차리', '면서', '만', '면', '되', '었', '다', '았', '고요', '이후', '살', '면서', '야금', '야금', '부족', 'ㄴ', '다', '채우', '살', '고', '있', '는데', '도', '자꾸', '때문', '필요', 'ㄴ', '가전', '생기', '는', '겁', '니까', '기업', '놈', '머리', '좋', '은', '건지', '분명', '혼수', 'ㄹ', '는', '세상', '없', '던', '가전', '많이', '도', '생기', '었', '에어', '프라이어', '며', '스타일', '러', '늘', 'ㄴ', '결혼', '도', '있', '었', '애쓰', '무시', '았', '지', '비싸', '아서', '건조기', '도', '분명', '는', '필수', '었', '는데', '지금', '은', '필수', '되', '었', '고요', '요것', '도', '그런', '가전', '중', '어요', '에어', '서큘레이터', '선풍기', '없', '는', '집', '있', '다고', '요', '에어컨', '도', '방', '마다', '있', '는', '시대', '요', '거기', '이제', 'ㄴ', '에어', '서큘레이터라는', '게', '필수', '라고', '요', '전', '처음', '나오', 'ㄹ', '는', '이름', '생소', '더니만', '지나', '았', '고', '발', '빠르', 'ㄴ', '분', '먼저', '쓰', '시', '고', '게', '그리', '좋', '다고', '시', '니', '사이', '이름', '익숙', '지', '어서', '는', '서큘레이터', '우리집', '도', '필요', 'ㄴ데', '게', '되', '는', '어쩌면', '마케팅', '노예', '좋', '게', '포장', '해보면', '시대', '발맞추', '살아가', '는', '스마트', '크', 'ㄴ', '슈', '머', '되겠슴돠']\n"
     ]
    }
   ],
   "source": [
    "print(result)"
   ]
  },
  {
   "cell_type": "markdown",
   "metadata": {},
   "source": [
    "# 4. 정수 인코딩 "
   ]
  },
  {
   "cell_type": "code",
   "execution_count": 42,
   "metadata": {},
   "outputs": [],
   "source": [
    "import numpy as np\n",
    "from sklearn.feature_extraction.text import CountVectorizer"
   ]
  },
  {
   "cell_type": "code",
   "execution_count": 43,
   "metadata": {},
   "outputs": [],
   "source": [
    "count=CountVectorizer()\n",
    "feature_matrix=count.fit_transform(result)"
   ]
  },
  {
   "cell_type": "markdown",
   "metadata": {},
   "source": [
    "# 빈도 시각화"
   ]
  },
  {
   "cell_type": "code",
   "execution_count": null,
   "metadata": {},
   "outputs": [],
   "source": [
    "# 그래프 한국어 설정\n",
    "import matplotlib as mpl\n",
    "import matplotlib.pylab as plt\n",
    "plt.rcParams[\"font.family\"]=\"Malgun Gothic\""
   ]
  },
  {
   "cell_type": "code",
   "execution_count": null,
   "metadata": {},
   "outputs": [],
   "source": [
    "from nltk import Text"
   ]
  },
  {
   "cell_type": "code",
   "execution_count": null,
   "metadata": {},
   "outputs": [],
   "source": [
    "kolaw=Text(komoran.nouns(temp))\n",
    "kolaw.plot(10)\n",
    "plt.show()"
   ]
  },
  {
   "cell_type": "code",
   "execution_count": null,
   "metadata": {},
   "outputs": [],
   "source": []
  }
 ],
 "metadata": {
  "kernelspec": {
   "display_name": "Python 3",
   "language": "python",
   "name": "python3"
  },
  "language_info": {
   "codemirror_mode": {
    "name": "ipython",
    "version": 3
   },
   "file_extension": ".py",
   "mimetype": "text/x-python",
   "name": "python",
   "nbconvert_exporter": "python",
   "pygments_lexer": "ipython3",
   "version": "3.7.6"
  }
 },
 "nbformat": 4,
 "nbformat_minor": 4
}
